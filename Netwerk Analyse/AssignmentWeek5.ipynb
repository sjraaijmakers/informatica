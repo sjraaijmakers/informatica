{
 "cells": [
  {
   "cell_type": "markdown",
   "metadata": {},
   "source": [
    "# Assignment week 5"
   ]
  },
  {
   "cell_type": "markdown",
   "metadata": {},
   "source": [
    "## Notebook made by   (If not filled in correctly: 0 pts for assignment)\n",
    "\n",
    "__Name(s)__: \n",
    "\n",
    "__Student id(s)__ : \n",
    "\n",
    "### Pledge (taken from [Coursera's Honor Code](https://www.coursera.org/about/terms/honorcode) )\n",
    "\n",
    "\n",
    "\n",
    "Put here a selfie with your photo where you hold a signed paper with the following text: (if this is team work, put two selfies here). The link must be to some place on the web, not to a local file. **Assignments without the selfies will not be graded and receive 0 points.**\n",
    "\n",
    "> My answers to homework, quizzes and exams will be my own work (except for assignments that explicitly permit collaboration).\n",
    "\n",
    ">I will not make solutions to homework, quizzes or exams available to anyone else. This includes both solutions written by me, as well as any official solutions provided by the course staff.\n",
    "\n",
    ">I will not engage in any other activities that will dishonestly improve my results or dishonestly improve/hurt the results of others.\n",
    "\n",
    "<img src='link to your selfie'/>"
   ]
  },
  {
   "cell_type": "markdown",
   "metadata": {},
   "source": [
    "## Exercises E&K Chap 4 and 13\n",
    "\n",
    "* E&K hfd 4, alle opgaven.\n",
    "* E&K hfd 13, alle opgaven."
   ]
  },
  {
   "cell_type": "markdown",
   "metadata": {},
   "source": []
  },
  {
   "cell_type": "markdown",
   "metadata": {},
   "source": [
    "## Programmeer opgaven\n",
    "\n",
    "Do all exercises in <http://maartenmarx.nl/teaching/NetwerkAnalyse/LectureNotes/NetWorkX/week4networkx.html>,\n",
    "but make them in this notebook.\n",
    "\n",
    "So, copy each question into a MarkDown cell, and answer it in a code cell below.\n",
    "Your code should run out of the box.\n",
    "\n",
    "### Note\n",
    "Below are some hints how to do some of the questions"
   ]
  },
  {
   "cell_type": "code",
   "execution_count": null,
   "metadata": {
    "collapsed": false
   },
   "outputs": [],
   "source": [
    "import networkx as nx\n",
    "import matplotlib.pyplot as plt\n",
    "%matplotlib inline\n",
    "\n",
    " "
   ]
  },
  {
   "cell_type": "markdown",
   "metadata": {
    "collapsed": false
   },
   "source": [
    "# stap 1: bekend raken met de data"
   ]
  },
  {
   "cell_type": "markdown",
   "metadata": {
    "collapsed": true
   },
   "source": [
    "## Q1 \n",
    "* Zet de gegevens in het spreadsheet om in een lijst van lijsten. Laad dus het spreadsheet\n",
    "in Python.\n",
    "<br/>\n",
    "Download het spreadsheet. Pak het uit, en zet het in dezelfde directory als waar je notebook staat."
   ]
  },
  {
   "cell_type": "code",
   "execution_count": null,
   "metadata": {
    "collapsed": true
   },
   "outputs": [],
   "source": [
    "# Downlaod en unzip \n",
    "# oplossing 1, werkt op mac en linux\n",
    "\n",
    "nwdata= 'http://staff.science.uva.nl/%7Emarx/teaching/NetwerkAnalyse/LectureNotes/NetWorkX/KamervragenNetwerk/MOTNetwerk.csv.gz'\n",
    "\n",
    "!wget --no-check-certificate $nwdata \n",
    "! gunzip 'MOTNetwerk.csv.gz'"
   ]
  },
  {
   "cell_type": "code",
   "execution_count": null,
   "metadata": {
    "collapsed": false
   },
   "outputs": [],
   "source": [
    "# read in the csv, use excel on steroids, pandas\n",
    "import pandas as pd\n",
    "\n",
    "MOTnetwerk=pd.read_csv('MOTNetwerk.csv', sep=';',error_bad_lines=False,header=None, encoding='utf-8')"
   ]
  },
  {
   "cell_type": "code",
   "execution_count": null,
   "metadata": {
    "collapsed": false
   },
   "outputs": [],
   "source": [
    "# show the head of the spreadsheet\n",
    "print hi"
   ]
  },
  {
   "cell_type": "code",
   "execution_count": null,
   "metadata": {
    "collapsed": false
   },
   "outputs": [],
   "source": [
    "# Now make a list of lists\n",
    "MOTnetwerkListofLists= MOTnetwerk.values.tolist()"
   ]
  },
  {
   "cell_type": "code",
   "execution_count": null,
   "metadata": {
    "collapsed": false
   },
   "outputs": [],
   "source": [
    "# do some tests\n",
    "len(MOTnetwerkListofLists), MOTnetwerkListofLists[5],  MOTnetwerkListofLists[5][0]"
   ]
  },
  {
   "cell_type": "markdown",
   "metadata": {},
   "source": [
    "# Q2\n",
    "Maak een lijst van alle indieners waarin elke indiener maar 1 keer voorkomt"
   ]
  },
  {
   "cell_type": "code",
   "execution_count": 70,
   "metadata": {
    "collapsed": false
   },
   "outputs": [
    {
     "data": {
      "text/plain": [
       "(['S. Faber',\n",
       "  'S. Faber',\n",
       "  'J.F. Snijder-Hazelhoff',\n",
       "  'J.F. Snijder-Hazelhoff',\n",
       "  'L.W.S.A.L.B. v.d. Laan'],\n",
       " 38528)"
      ]
     },
     "execution_count": 70,
     "metadata": {},
     "output_type": "execute_result"
    }
   ],
   "source": [
    "# nog niet helemaal goed, maar een beginnetje\n",
    "Indieners = [rij[0] for rij in MOTnetwerkListofLists]\n",
    "# test\n",
    "Indieners[:5], len(Indieners)"
   ]
  },
  {
   "cell_type": "markdown",
   "metadata": {},
   "source": [
    "# Q7\n",
    "\n",
    "Maak een lijst met tuples van de vorm `[('D. Eisma', 'F.W. Weisglas', 2), ('Th.C. d. Graaf', 'E. v. Middelkoop', 1), ('S. v. Heemskerck Pillis-Duvekot', 'A. Nuis', 3),....]`, waarin elk tuple het volgende betekent: (indiener, medeindiener, \"hoe vaak indiener een motie heeft ingediend met medeindiener\")"
   ]
  },
  {
   "cell_type": "code",
   "execution_count": null,
   "metadata": {
    "collapsed": false
   },
   "outputs": [],
   "source": [
    "# Check out this great tool to count \n",
    "from collections import Counter\n",
    "\n",
    "testje = [1,1,1,2,2,'a','gek','gek', 3]\n",
    "\n",
    "testdict= Counter(testje)\n",
    "# test\n",
    "testdict"
   ]
  },
  {
   "cell_type": "code",
   "execution_count": null,
   "metadata": {
    "collapsed": false
   },
   "outputs": [],
   "source": [
    "# Doing it yourself\n",
    "from collections import defaultdict\n",
    "\n",
    "mydict=defaultdict(int)\n",
    "for w in testje:\n",
    "    mydict[w]+=1\n",
    "    \n",
    "# test    \n",
    "print mydict"
   ]
  },
  {
   "cell_type": "code",
   "execution_count": null,
   "metadata": {
    "collapsed": true
   },
   "outputs": [],
   "source": []
  }
 ],
 "metadata": {
  "kernelspec": {
   "display_name": "Python 2",
   "language": "python",
   "name": "python2"
  },
  "language_info": {
   "codemirror_mode": {
    "name": "ipython",
    "version": 2
   },
   "file_extension": ".py",
   "mimetype": "text/x-python",
   "name": "python",
   "nbconvert_exporter": "python",
   "pygments_lexer": "ipython2",
   "version": "2.7.12+"
  }
 },
 "nbformat": 4,
 "nbformat_minor": 0
}
