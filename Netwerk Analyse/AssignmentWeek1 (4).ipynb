{
 "cells": [
  {
   "cell_type": "markdown",
   "metadata": {},
   "source": [
    "# Assignment  week 1"
   ]
  },
  {
   "cell_type": "markdown",
   "metadata": {},
   "source": [
    "## Notebook made by   (If not filled in correctly: 0 pts for assignment)\n",
    "\n",
    "__Name(s)__: Ajit Jena, Steven Raaijmakers\n",
    "\n",
    "__Student id(s)__ : 5730066, 10804242\n",
    "\n",
    "### Pledge (taken from [Coursera's Honor Code](https://www.coursera.org/about/terms/honorcode) )\n",
    "\n",
    "\n",
    "\n",
    "Put here a selfie with your photo where you hold a signed paper with the following text: (if this is team work, put two selfies here). The link must be to some place on the web, not to a local file. **Assignments without the selfies will not be graded and receive 0 points.**\n",
    "\n",
    "> My answers to homework, quizzes and exams will be my own work (except for assignments that explicitly permit collaboration).\n",
    "\n",
    ">I will not make solutions to homework, quizzes or exams available to anyone else. This includes both solutions written by me, as well as any official solutions provided by the course staff.\n",
    "\n",
    ">I will not engage in any other activities that will dishonestly improve my results or dishonestly improve/hurt the results of others.\n",
    "\n",
    "<img src='https://i.imgsafe.org/b505aefc9d.jpg'/>\n",
    "<img src='https://i.imgsafe.org/b505a8fb02.jpg'/> "
   ]
  },
  {
   "cell_type": "markdown",
   "metadata": {},
   "source": [
    "<h1>De vragen Deel 1</h1>\n",
    "    <ul>\n",
    "        <li><strong>Week</strong> 1</li>\n",
    "        <li><strong>Topic</strong>   Graph notions in action </li>\n",
    "        <li><strong>Literature</strong> Steen Hfd 2 and 6  </li>\n",
    "    </ul>\n",
    "\n",
    "<p>Beschouw de volgende simpele ongerichte graaf:</p>\n",
    "<center>\n",
    "    V = {1, 2, 3, 4, 5} en \n",
    "    E = { (1, 2) , (1, 4) , (2, 3) , (2, 4) , (2, 5) , (3, 4) , (3, 5) }\n",
    "</center>\n",
    "\n",
    "<ol> \n",
    "<li>Teken dit netwerk. Teken het zo dat er geen lijnen overlappen (dit kan, het is een zogeheten planar graph).</li>\n",
    "https://i.imgsafe.org/b4ea78bb34.jpg\n",
    "\n",
    "    <li>Maak een tabel met twee kolommen: \n",
    "    <pre>\n",
    "        Knoop  Neighbour set\n",
    "        1      2,4\n",
    "        2      1,3,4,5\n",
    "        3      2,4,5\n",
    "        4      1,2,3\n",
    "        5      2,3\n",
    "    </pre></li>\n",
    "    <li>Hoeveel lijnen moet je toevoegen om hier een volledige (clique) graaf van te maken?</li>\n",
    "        <b>3</b>\n",
    "    <li>Maak een tabel met twee kolommen: \n",
    "        <pre>\n",
    "        Knoop  Degree\n",
    "        1      2\n",
    "        2      4\n",
    "        3      3\n",
    "        4      3\n",
    "        5      2\n",
    "        </pre></li>\n",
    "    <li>Geef de subgraven geinduceerd door {1,2,3} en {2,5,3} en {5,4}.</li>\n",
    "     https://i.imgsafe.org/b4ea8ce79d.jpg\n",
    "    <li>Maak de adjency matrix van dit netwerk\n",
    "    <pre>\n",
    "        1 2 3 4 5\n",
    "      1 0 1 0 1 0\n",
    "      2 1 0 1 1 1\n",
    "      3 0 1 0 1 1\n",
    "      4 1 1 1 0 0\n",
    "      5 0 1 1 0 0\n",
    "    </pre>\n",
    "    Is het echt nodig om elke cel in te vullen?</li>\n",
    "    <b>De diagonaal van de adjacency matrix hoeft niet ingevuld te worden, dit stelt een verbinding naar zichzelf voor</b>\n",
    "    <li>Geef de knopen andere namen, en laat zien dat de twee netwerken isomorf zijn. (Dat is, definieer de functie van knopen naar knopen).</li>\n",
    "    <li>Maak de korste paden matrix van dit netwerk: in iedere cel zet je de lengte van het kortste pad\n",
    "        <pre>\n",
    "        1 2 3 4 5\n",
    "      1   1 2 1 2 \n",
    "      2 1   1 1 1\n",
    "      3 2 1   1 1\n",
    "      4 1 1 1   2\n",
    "      5 1 1 1 2 \n",
    "    </pre>\n",
    "    </li>\n",
    "    <li>Wat is/zijn de minimale vertex cut(s)? </li>\n",
    "    <b>2</b>\n",
    "    <li>Maak een tabel met twee kolommen: \n",
    "    <pre>\n",
    "        Knoop  Eccentricy (langste kortse pad)\n",
    "        1      2\n",
    "        2      1\n",
    "        3      2\n",
    "        4      2\n",
    "        5      2\n",
    "    </pre></li>\n",
    "    <li>Wat is de radius van de graaf? <b>1</b>. Wat is de diameter? <b>2</b></li>\n",
    "    <li>Welke lijn(en) moet je minimaal weghalen om de diameter te laten stijgen?</li>\n",
    "    <b>1,2</b>\n",
    "    <li>Welke lijn(en) kan je allemaal  weghalen zonder de diameter te laten stijgen?<b>(1,4), (3,5) en (3,4)</b> Wat is er zo bijzonder aan het netwerk dat overblijft?</li>\n",
    "    <b>Dit is een zogenoemde 'Star network'</b>\n",
    "    <li>Je wilt nog een knoop toevoegen aan dit netwerk, maar wel diameter 2 houden. Hoeveel lijnen moet je dan minimaal trekken?</li>\n",
    "    <b>1</b>\n",
    "    <li>Je wilt nog een knoop toevoegen aan dit netwerk, maar die mag geen directe vriend zijn van knoop 2 en  je wilt wel diameter 2 houden. Hoeveel lijnen moet je dan minimaal trekken? </li>\n",
    "    <b>2</b>\n",
    "    <li> Bereken met behulp van je tabel met lengtes van kortste paden de avarage path length.</li>\n",
    "    <b>13/7</b>\n",
    "    <li>Bereken de characteristic path length.</li>\n",
    "    <b>9/5</b>\n",
    "</ol>\n"
   ]
  },
  {
   "cell_type": "markdown",
   "metadata": {},
   "source": [
    "## De vragen deel 2\n",
    "\n",
    "* Easley and Kleinberg: Hfd 2.5 exercises 1 en 2."
   ]
  },
  {
   "cell_type": "markdown",
   "metadata": {},
   "source": [
    "# Mijn antwoorden\n",
    "\n",
    "* Gebruik voor elk antwoord een aparte MarkDown cell.\n",
    "* Copieer eerst de vraag, zoals in de voorbeelden.\n",
    "* Geef daaronder, in dezelfde cel, het antwoord.\n",
    "* Als je een plaatje moet inleveren, zet het ergens op het web, en geef de link ernaartoe. Lokale links werken niet.\n",
    "* Hieronder zijn   twee voorbeelden (met een fout antwoord)."
   ]
  },
  {
   "cell_type": "markdown",
   "metadata": {},
   "source": [
    "#### 1 \n",
    "https://i.imgsafe.org/b4ea998971.jpg\n",
    "\n",
    "a) <br/>\n",
    "A is pivotal to pair B,E <br/>\n",
    "B is pivotal to pair A,C <br/>\n",
    "C is pivotal to pair B,D <br/>\n",
    "....\n",
    "\n",
    "b)<br/>\n",
    "A is pivotal to pair B,G and C,G<br/>\n",
    "B is pivotal to pair A,C and A,D<br/>\n",
    "C is pivotal to pair B,D and B,E<br/>\n",
    "...\n",
    "\n",
    "c)<br/>\n",
    "Each node is only connected to X, therefore X has to always be visited for every pair excluding X. \n"
   ]
  },
  {
   "cell_type": "markdown",
   "metadata": {},
   "source": [
    "#### 2 \n",
    "https://i.imgsafe.org/b4f13bbe46.jpg\n",
    "\n",
    "a) Nodes C to G are gatekeepers for the pairs (A,H), (A,I), (B,I) and (B,H). There are 5 gatekeepers and 9 nodes in total\n",
    "\n",
    "b) <br/>\n",
    "Node A has two neighbours that are not connected by an edge to eachother, namely C,B <br/>\n",
    "Node B has two neighbours that are not connected by an edge to eachother, namely A,D <br/>\n",
    "Node C has two neighbours that are not connected by an edge to eachother, namely A,D <br/>\n",
    "Node D has two neighbours that are not connected by an edge to eachother, namely C,B <br/>\n"
   ]
  },
  {
   "cell_type": "markdown",
   "metadata": {},
   "source": [
    " "
   ]
  }
 ],
 "metadata": {
  "anaconda-cloud": {},
  "kernelspec": {
   "display_name": "Python [default]",
   "language": "python",
   "name": "python2"
  },
  "language_info": {
   "codemirror_mode": {
    "name": "ipython",
    "version": 2
   },
   "file_extension": ".py",
   "mimetype": "text/x-python",
   "name": "python",
   "nbconvert_exporter": "python",
   "pygments_lexer": "ipython2",
   "version": "2.7.12"
  }
 },
 "nbformat": 4,
 "nbformat_minor": 0
}
