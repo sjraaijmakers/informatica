{
 "cells": [
  {
   "cell_type": "markdown",
   "metadata": {
    "deletable": true,
    "editable": true
   },
   "source": [
    "__Bär Halberkamp (10758380) & Steven Raaijmakers (10804242)__"
   ]
  },
  {
   "cell_type": "markdown",
   "metadata": {
    "collapsed": true,
    "deletable": true,
    "editable": true
   },
   "source": [
    "### Background:\n",
    "\n",
    "This practical assignment will be covering logistic regression, neural networks, support vector machines and evaluation of classifiers. \n",
    "\n",
    "For the assignment, please download a dataset on Load Defaults. You are provided with two datasets:\n",
    "1. [Dataset](https://drive.google.com/open?id=0B-zklbckv9CHNmdDY2E0NEk1a2s) with 10,000 instances \n",
    "2. [Dataset](https://drive.google.com/open?id=0B-zklbckv9CHa0xRcjExNzdrT3c) with 100,000 instances\n",
    "\n",
    "This data corresponds to a set of financial transactions associated with individuals. The data has been standardized, de-trended, and anonymized. You are provided with thousands of observations and nearly 800 features. Each observation (instance) is independent from the previous. \n",
    "\n",
    "For each observation, it was recorded whether a default was triggered. In case of a default, the loss was measured. This quantity lies between 0 and 100. It has been normalised, considering that the notional of each transaction at inception is 100. For example, a loss of 60 means that only 40 is reimbursed. If the loan did not default, the loss was 0. You are asked to predict the losses for each observation in the test set.\n",
    "\n",
    "Missing feature values have been kept as is, so that the competing teams can really use the maximum data available, implementing a strategy to fill the gaps if desired. Consider all variables continuous, even though some variables may be categorical (e.g. f776 and f777).\n",
    "\n",
    "The goal of the data mining algorithm will be to predict whether a loan will default, given a set of features. For privacy reasons the feature names are not provided.\n",
    "\n",
    "**Important Note**: This second assignment is not as instructive as the first assignment. The first assignment guided you step-by-step through all the preprocessing, training-validation-testing setup, etc. This assignment does not do so, but it leaves it up to you to decide how to use the data and design your experiments."
   ]
  },
  {
   "cell_type": "markdown",
   "metadata": {
    "deletable": true,
    "editable": true
   },
   "source": [
    "### Part 1: Import the data"
   ]
  },
  {
   "cell_type": "code",
   "execution_count": 21,
   "metadata": {
    "collapsed": false,
    "deletable": true,
    "editable": true
   },
   "outputs": [
    {
     "name": "stderr",
     "output_type": "stream",
     "text": [
      "/usr/local/lib/python3.5/dist-packages/IPython/core/interactiveshell.py:2717: DtypeWarning: Columns (135,417) have mixed types. Specify dtype option on import or set low_memory=False.\n",
      "  interactivity=interactivity, compiler=compiler, result=result)\n"
     ]
    }
   ],
   "source": [
    "import pandas as pd\n",
    "df = pd.read_csv('loan_default_10K.csv', sep=\",\", header = 0)"
   ]
  },
  {
   "cell_type": "code",
   "execution_count": 22,
   "metadata": {
    "collapsed": false,
    "deletable": true,
    "editable": true
   },
   "outputs": [],
   "source": [
    "# Drop the observations that contain missing values\n",
    "# dfn = df\n",
    "dfn = df.dropna(0,how = 'any')"
   ]
  },
  {
   "cell_type": "markdown",
   "metadata": {
    "deletable": true,
    "editable": true
   },
   "source": [
    "Use all features (f1 to f778):"
   ]
  },
  {
   "cell_type": "code",
   "execution_count": 23,
   "metadata": {
    "collapsed": false,
    "deletable": true,
    "editable": true
   },
   "outputs": [],
   "source": [
    "# Consider only a handful of features to start with; you can extend to the full set later on.\n",
    "X = dfn.ix[:,'f1':'f778'].values"
   ]
  },
  {
   "cell_type": "code",
   "execution_count": 24,
   "metadata": {
    "collapsed": false,
    "deletable": true,
    "editable": true
   },
   "outputs": [],
   "source": [
    "# Generate the labels; if 'loss' is zero the this indicates the negative class, class 0, i.e. no default;\n",
    "# if 'loss' is possitive this indicates the positive class, class 1, i.e. there is a loan default;\n",
    "y = [ bool(y) for y in dfn.ix[:,'loss'].values]"
   ]
  },
  {
   "cell_type": "markdown",
   "metadata": {
    "deletable": true,
    "editable": true
   },
   "source": [
    "### Part 2: Evaluation measures (Lecture 4) (2pts)"
   ]
  },
  {
   "cell_type": "markdown",
   "metadata": {
    "deletable": true,
    "editable": true
   },
   "source": [
    "* Implement a function that produces the contigency matrix, i.e. True Positives, False Positives, True Negatives, False Negative"
   ]
  },
  {
   "cell_type": "code",
   "execution_count": 25,
   "metadata": {
    "collapsed": false,
    "deletable": true,
    "editable": true
   },
   "outputs": [],
   "source": [
    "def contigency_matrix(predicted_y, true_y):\n",
    "    tp = 0\n",
    "    fp = 0\n",
    "    tn = 0\n",
    "    fn = 0\n",
    "    \n",
    "    for i in range(len(predicted_y)):\n",
    "        if bool(predicted_y[i]):\n",
    "            if bool(true_y[i]):\n",
    "                tp += 1\n",
    "            else:\n",
    "                fp += 1\n",
    "        else:\n",
    "            if bool(true_y[i]):\n",
    "                fn += 1\n",
    "            else:\n",
    "                tn += 1\n",
    "            \n",
    "    return tp, fp, tn, fn"
   ]
  },
  {
   "cell_type": "markdown",
   "metadata": {
    "deletable": true,
    "editable": true
   },
   "source": [
    "* Implement a function that computes accuracy (without using any built-in accuracy function)"
   ]
  },
  {
   "cell_type": "code",
   "execution_count": 26,
   "metadata": {
    "collapsed": false,
    "deletable": true,
    "editable": true
   },
   "outputs": [],
   "source": [
    "def accuracy(predicted_y, true_y):\n",
    "    tp, fp, tn, fn = contigency_matrix(predicted_y, true_y)\n",
    "    return (tp + tn + 1) / (tp + fp + tn + fn + 1)"
   ]
  },
  {
   "cell_type": "markdown",
   "metadata": {
    "deletable": true,
    "editable": true
   },
   "source": [
    "* Implement a function that computes precision  (without using any built-in precision function)"
   ]
  },
  {
   "cell_type": "code",
   "execution_count": 27,
   "metadata": {
    "collapsed": true,
    "deletable": true,
    "editable": true
   },
   "outputs": [],
   "source": [
    "def precision(predicted_y, true_y):\n",
    "    tp, fp, tn, fn = contigency_matrix(predicted_y, true_y)\n",
    "    return (tp + 1) / (tp + fp + 1)"
   ]
  },
  {
   "cell_type": "markdown",
   "metadata": {
    "deletable": true,
    "editable": true
   },
   "source": [
    "* Implement a function that computes recall (without using any built-in recall function)"
   ]
  },
  {
   "cell_type": "code",
   "execution_count": 28,
   "metadata": {
    "collapsed": true,
    "deletable": true,
    "editable": true
   },
   "outputs": [],
   "source": [
    "def recall(predicted_y, true_y):\n",
    "    tp, fp, tn, fn = contigency_matrix(predicted_y, true_y)\n",
    "    return (tp + 1) / (tp + fn + 1)"
   ]
  },
  {
   "cell_type": "markdown",
   "metadata": {
    "deletable": true,
    "editable": true
   },
   "source": [
    "* Implement a function that computes f1 (without using any built-in f1 function)"
   ]
  },
  {
   "cell_type": "code",
   "execution_count": 29,
   "metadata": {
    "collapsed": true,
    "deletable": true,
    "editable": true
   },
   "outputs": [],
   "source": [
    "def f1(predicted_y, true_y):\n",
    "    p = precision(predicted_y, true_y)\n",
    "    r = recall(predicted_y, true_y)\n",
    "    return 2 * (p * r) / (p + r)"
   ]
  },
  {
   "cell_type": "markdown",
   "metadata": {
    "deletable": true,
    "editable": true
   },
   "source": [
    "### Part 3: Algorithms"
   ]
  },
  {
   "cell_type": "markdown",
   "metadata": {
    "deletable": true,
    "editable": true
   },
   "source": [
    "Compare the performance of Logistic Regression, Neural Networks, and SVMs"
   ]
  },
  {
   "cell_type": "markdown",
   "metadata": {
    "deletable": true,
    "editable": true
   },
   "source": [
    "##### Logistic Regression (Lecture 3) (2pts)\n",
    "\n",
    "+ Train and test a logistic regression model\n",
    "    + Construct a table with each rown being a different value of the regularization parameter and each column the aforementioned measures\n",
    "    + Explain your findings and select the optimal model\n",
    "    + Report the performance of the optimal model"
   ]
  },
  {
   "cell_type": "code",
   "execution_count": 30,
   "metadata": {
    "collapsed": true,
    "deletable": true,
    "editable": true
   },
   "outputs": [],
   "source": [
    "from sklearn.model_selection import train_test_split\n",
    "from sklearn.preprocessing import MinMaxScaler\n",
    "import numpy as np\n",
    "from sklearn.linear_model import LogisticRegression\n",
    "from sklearn.preprocessing import Imputer"
   ]
  },
  {
   "cell_type": "markdown",
   "metadata": {
    "deletable": true,
    "editable": true
   },
   "source": [
    "Generate train- and test set from dataset, and use minmax-scaler."
   ]
  },
  {
   "cell_type": "code",
   "execution_count": 31,
   "metadata": {
    "collapsed": false,
    "deletable": true,
    "editable": true
   },
   "outputs": [
    {
     "name": "stderr",
     "output_type": "stream",
     "text": [
      "/usr/local/lib/python3.5/dist-packages/sklearn/utils/validation.py:429: DataConversionWarning: Data with input dtype object was converted to float64 by MinMaxScaler.\n",
      "  warnings.warn(msg, _DataConversionWarning)\n"
     ]
    }
   ],
   "source": [
    "X_train, X_test, y_train, y_test = train_test_split(X,y,random_state=42)\n",
    "\n",
    "minmax = MinMaxScaler().fit(X_train)\n",
    "X_train = minmax.transform(X_train)\n",
    "X_test = minmax.transform(X_test)\n",
    "\n",
    "logreg = LogisticRegression().fit(X_train, y_train)"
   ]
  },
  {
   "cell_type": "markdown",
   "metadata": {
    "deletable": true,
    "editable": true
   },
   "source": [
    "Results of logistic regression:"
   ]
  },
  {
   "cell_type": "code",
   "execution_count": 32,
   "metadata": {
    "collapsed": false,
    "deletable": true,
    "editable": true
   },
   "outputs": [
    {
     "name": "stdout",
     "output_type": "stream",
     "text": [
      "True's in actual set: 91\n",
      "True's in predicted set: 5\n",
      "Score (train): 0.903816793893\n",
      "Score (test): 0.915750915751\n"
     ]
    }
   ],
   "source": [
    "pred = logreg.predict(X_test)\n",
    "\n",
    "print(\"True's in actual set:\", y_test.count(True))\n",
    "print(\"True's in predicted set:\", list(pred).count(True))\n",
    "print(\"Score (train):\", logreg.score(X_train,y_train))\n",
    "print(\"Score (test):\", logreg.score(X_test,y_test))"
   ]
  },
  {
   "cell_type": "markdown",
   "metadata": {
    "deletable": true,
    "editable": true
   },
   "source": [
    "Perfomance for different regularization parameters:"
   ]
  },
  {
   "cell_type": "code",
   "execution_count": 33,
   "metadata": {
    "collapsed": false,
    "deletable": true,
    "editable": true
   },
   "outputs": [
    {
     "name": "stdout",
     "output_type": "stream",
     "text": [
      "C \t\t Accuracy \t\t Precision \t\t Recall \t\t F1\n",
      "0.001 \t\t 0.91674 \t\t 1.00000 \t\t 0.01087 \t\t 0.02150537634408602\n",
      "1 \t\t 0.91583 \t\t 0.50000 \t\t 0.03261 \t\t 0.06122448979591836\n",
      "10 \t\t 0.90302 \t\t 0.20833 \t\t 0.05435 \t\t 0.08620689655172414\n",
      "100 \t\t 0.89661 \t\t 0.16129 \t\t 0.05435 \t\t 0.08130081300813008\n",
      "1000 \t\t 0.87832 \t\t 0.09804 \t\t 0.05435 \t\t 0.06993006993006994\n"
     ]
    }
   ],
   "source": [
    "cs = [0.001, 1, 10, 100, 1000]\n",
    "\n",
    "print(\"C \\t\\t Accuracy \\t\\t Precision \\t\\t Recall \\t\\t F1\")\n",
    "\n",
    "for c in cs:    \n",
    "    logreg_tmp = LogisticRegression(C=c).fit(X_train, y_train)\n",
    "    pred = logreg_tmp.predict(X_test)\n",
    "    true = y_test\n",
    "    ac = format(accuracy(pred, true), '.5f')\n",
    "    pr = format(precision(pred, true), '.5f')\n",
    "    rc = format(recall(pred, true), '.5f')\n",
    "    f_1 = f1(pred, true)\n",
    "    print(c, \"\\t\\t\", ac, \"\\t\\t\", pr, \"\\t\\t\", rc, \"\\t\\t\", f_1)"
   ]
  },
  {
   "cell_type": "markdown",
   "metadata": {},
   "source": [
    "The model with regularization parameter C=10 seems the best model since it has the highest f1 score. "
   ]
  },
  {
   "cell_type": "markdown",
   "metadata": {
    "deletable": true,
    "editable": true
   },
   "source": [
    "* Explain what you observe regarding the positive class; i.e. the performance of the algorithm in predicting defaults. Explain why is this happening."
   ]
  },
  {
   "cell_type": "markdown",
   "metadata": {
    "deletable": true,
    "editable": true
   },
   "source": [
    "Since there are only 91 examples which yield true, the classifier has a tendency to (overly) classify as false, since the occurence of the false class is much higher than the true one. However, this does lead to a good score, since in reality most values are actually false."
   ]
  },
  {
   "cell_type": "markdown",
   "metadata": {
    "deletable": true,
    "editable": true
   },
   "source": [
    "There are a number of ways to fix the problem you have observed above. Here we will consider two of them: downsampling and upsampling. In an ideal situation you will like your dataset to be balanced, i.e. to have the same number of instances for the positive and the negative class.\n",
    "\n",
    "**Downsampling**: Let's assume that the positive class has *n1* instances, while the negative class *n2* instances, where *n2* is much bigger than *n1*. One solution is to create a new training set for which from the *n2* instances of the negative class you sample *n1* of them only to include in your training set; hence now you have *n1* + *n1* training instances.\n",
    "\n",
    "**Upsampling**: Let's assume that the positive class has *n1* instances, while the negative class *n2* instances, where *n2* is much bigger than *n1*. Another solution is to create a new training set for which you create  *n2* instances of the positive class. To do so you sample *n2* instances from the *n1* instance, with replacement. With replacement means that you allow the same instance to be sampled multiple times; hence now you have *n2* + *n2* training instances."
   ]
  },
  {
   "cell_type": "markdown",
   "metadata": {
    "deletable": true,
    "editable": true
   },
   "source": [
    "* Implement a function for downsampling (**optional**)"
   ]
  },
  {
   "cell_type": "code",
   "execution_count": 34,
   "metadata": {
    "collapsed": false,
    "deletable": true,
    "editable": true
   },
   "outputs": [],
   "source": [
    "def downsample(y_train):\n",
    "    true_indices = np.array([i for i, x in enumerate(y_train) if x == True])\n",
    "    false_indices = np.array(list(set(range(len(y_train))) - set(true_indices)))\n",
    "    \n",
    "    # pick len(true_indices) random samples of the false set.        \n",
    "    n2 = np.random.choice(false_indices, len(true_indices))\n",
    "    \n",
    "    sampled_indices = np.sort(np.append(true_indices, n2))\n",
    "    \n",
    "    return sampled_indices\n",
    "\n",
    "def new_training_set(X_train, y_train):\n",
    "    X_train = np.array(X_train)\n",
    "    y_train = np.array(y_train)\n",
    "    \n",
    "    indices = downsample(y_train)\n",
    "\n",
    "    return X_train[indices], y_train[indices]"
   ]
  },
  {
   "cell_type": "code",
   "execution_count": 35,
   "metadata": {
    "collapsed": false,
    "deletable": true,
    "editable": true
   },
   "outputs": [],
   "source": [
    "X_train_new, y_train_new = new_training_set(X_train, y_train)"
   ]
  },
  {
   "cell_type": "code",
   "execution_count": 36,
   "metadata": {
    "collapsed": false,
    "deletable": true,
    "editable": true
   },
   "outputs": [
    {
     "name": "stdout",
     "output_type": "stream",
     "text": [
      "Trues: 324 , Falses: 324\n",
      "(648,)\n"
     ]
    }
   ],
   "source": [
    "print(\"Trues:\", list(y_train_new).count(True), \", Falses:\", list(y_train_new).count(False))\n",
    "print(y_train_new.shape)"
   ]
  },
  {
   "cell_type": "markdown",
   "metadata": {
    "deletable": true,
    "editable": true
   },
   "source": [
    "* Test the performance of logistic regression using the new training set, and report your conclusions (**optional**)"
   ]
  },
  {
   "cell_type": "code",
   "execution_count": 37,
   "metadata": {
    "collapsed": false,
    "deletable": true,
    "editable": true
   },
   "outputs": [
    {
     "name": "stdout",
     "output_type": "stream",
     "text": [
      "0.551282051282\n"
     ]
    }
   ],
   "source": [
    "logreg_new = LogisticRegression(C=10).fit(X_train_new, y_train_new)\n",
    "\n",
    "print(logreg_new.score(X_test, y_test))"
   ]
  },
  {
   "cell_type": "code",
   "execution_count": 38,
   "metadata": {
    "collapsed": false,
    "deletable": true,
    "editable": true
   },
   "outputs": [
    {
     "name": "stdout",
     "output_type": "stream",
     "text": [
      "True's in actual set: 91\n",
      "True's in predicted set: 489\n"
     ]
    }
   ],
   "source": [
    "pred_new = logreg_new.predict(X_test)\n",
    "\n",
    "print(\"True's in actual set:\", y_test.count(True))\n",
    "print(\"True's in predicted set:\", list(pred_new).count(True))"
   ]
  },
  {
   "cell_type": "markdown",
   "metadata": {
    "deletable": true,
    "editable": true
   },
   "source": [
    "##### Neural Network (Lecture 4) (2pts)\n",
    "\n",
    "+ Train and test a Neural Network model\n",
    "    + Construct a table with each row being a different configuration of the network (play with the number of hidden layers, the number of neurons in each layer, and the activation function) and each column the evaluation measures\n",
    "    + Explain your findings and select the optimal model\n",
    "    + Report the performance of the optimal model"
   ]
  },
  {
   "cell_type": "code",
   "execution_count": 39,
   "metadata": {
    "collapsed": false,
    "deletable": true,
    "editable": true
   },
   "outputs": [
    {
     "name": "stdout",
     "output_type": "stream",
     "text": [
      "layers\tnodes\tprecision\taccuracy\trecall\t\tf1\n",
      "1\t50\t0.090643\t0.403477\t0.673913\t0.159794\n",
      "1\t100\t0.093923\t0.512351\t0.554348\t0.160630\n",
      "1\t250\t0.094637\t0.445563\t0.652174\t0.165289\n",
      "1\t500\t0.115646\t0.812443\t0.184783\t0.142259\n",
      "2\t50\t0.103343\t0.677036\t0.369565\t0.161520\n",
      "2\t100\t0.094382\t0.585544\t0.456522\t0.156425\n",
      "2\t250\t0.084626\t0.376944\t0.652174\t0.149813\n",
      "2\t500\t0.097436\t0.628545\t0.413043\t0.157676\n",
      "3\t50\t0.084375\t0.429094\t0.586957\t0.147541\n",
      "3\t100\t0.095918\t0.553522\t0.510870\t0.161512\n",
      "3\t250\t0.095116\t0.627630\t0.402174\t0.153846\n",
      "3\t500\t0.100000\t0.652333\t0.391304\t0.159292\n",
      "4\t50\t0.087379\t0.371455\t0.684783\t0.154982\n",
      "4\t100\t0.111111\t0.710887\t0.347826\t0.168421\n",
      "4\t250\t0.096203\t0.623971\t0.413043\t0.156057\n",
      "4\t500\t0.085714\t0.225984\t0.847826\t0.155689\n"
     ]
    }
   ],
   "source": [
    "from sklearn.neural_network import MLPClassifier  \n",
    "\n",
    "print(\"layers\\tnodes\\tprecision\\taccuracy\\trecall\\t\\tf1\")\n",
    "for layer in [1, 2, 3, 4]:\n",
    "    for size in [50, 100, 250, 500]:\n",
    "        mlp = MLPClassifier(hidden_layer_sizes=[size for _ in range(layer)], max_iter=1000, random_state=0).fit(X_train_new, y_train_new)\n",
    "        pred = mlp.predict(X_test)\n",
    "        print(\"%d\\t%d\\t%f\\t%f\\t%f\\t%f\" % (layer, size, precision(pred, y_test), accuracy(pred, y_test), recall(pred, y_test), f1(pred, y_test)))"
   ]
  },
  {
   "cell_type": "markdown",
   "metadata": {
    "deletable": true,
    "editable": true
   },
   "source": [
    "The best model seems to be four layers with 100 nodes. The recall is much higher than the other models. The loss of precision this model has is not a huge concern, since false positives are generally less of a problem than false negatives. The increase in recall offsets the loss of precision enough (see also the f1 score) to be worth the tradeoff."
   ]
  },
  {
   "cell_type": "markdown",
   "metadata": {
    "collapsed": false,
    "deletable": true,
    "editable": true
   },
   "source": [
    "##### SVMs (Lecture 5) (2pts)\n",
    "\n",
    "+ Train and test a Support Vector Machine model\n",
    "    + Construct a table with each row being a different configuration of the SVM algorithm (play with the regularization parameter, and the kernel function – use linear, poly, rbf, and sigmoid) and each column the evaluation measures\n",
    "    + Explain your findings and select the optimal model\n",
    "    + Report the performance of the optimal model"
   ]
  },
  {
   "cell_type": "code",
   "execution_count": 41,
   "metadata": {
    "collapsed": false,
    "deletable": true,
    "editable": true
   },
   "outputs": [
    {
     "name": "stdout",
     "output_type": "stream",
     "text": [
      "c\tkernel\tprecision\taccuracy\trecall\t\tf1\n",
      "0\trbf\t0.100239\t0.609332\t0.456522\t0.164384\n",
      "0\tlinear\t0.098619\t0.543458\t0.543478\t0.166945\n",
      "0\tpoly\t0.114130\t0.785910\t0.228261\t0.152174\n",
      "0\tsigmoid\t0.100244\t0.616651\t0.445652\t0.163673\n",
      "1\trbf\t0.097760\t0.554437\t0.521739\t0.164666\n",
      "1\tlinear\t0.095142\t0.549863\t0.510870\t0.160410\n",
      "1\tpoly\t0.114130\t0.785910\t0.228261\t0.152174\n",
      "1\tsigmoid\t0.091549\t0.491308\t0.565217\t0.157576\n",
      "10\trbf\t0.097166\t0.551693\t0.521739\t0.163823\n",
      "10\tlinear\t0.094303\t0.537969\t0.521739\t0.159734\n",
      "10\tpoly\t0.114130\t0.785910\t0.228261\t0.152174\n",
      "10\tsigmoid\t0.097614\t0.576395\t0.489130\t0.162749\n",
      "100\trbf\t0.095541\t0.567246\t0.489130\t0.159858\n",
      "100\tlinear\t0.100952\t0.532479\t0.576087\t0.171799\n",
      "100\tpoly\t0.096698\t0.602928\t0.445652\t0.158915\n",
      "100\tsigmoid\t0.100952\t0.532479\t0.576087\t0.171799\n",
      "1000\trbf\t0.110204\t0.566331\t0.586957\t0.185567\n",
      "1000\tlinear\t0.111524\t0.533394\t0.652174\t0.190476\n",
      "1000\tpoly\t0.090730\t0.536139\t0.500000\t0.153589\n",
      "1000\tsigmoid\t0.103093\t0.563586\t0.543478\t0.173310\n"
     ]
    }
   ],
   "source": [
    "from sklearn.svm import SVC\n",
    "\n",
    "print(\"c\\tkernel\\tprecision\\taccuracy\\trecall\\t\\tf1\")\n",
    "for c in [0.1,1, 10, 100, 1000]:\n",
    "    for kernel in ['rbf', 'linear', 'poly', 'sigmoid']:\n",
    "        svm = SVC(kernel=kernel, C=c).fit(X_train_new, y_train_new)\n",
    "        pred = svm.predict(X_test)\n",
    "        print(\"%d\\t%s\\t%f\\t%f\\t%f\\t%f\" % (c, kernel, precision(pred, y_test), accuracy(pred, y_test), recall(pred, y_test), f1(pred, y_test)))"
   ]
  },
  {
   "cell_type": "markdown",
   "metadata": {
    "deletable": true,
    "editable": true
   },
   "source": [
    "The linear kernel with a C value of 1000 seems to be the most desirable model. It does not have the highest accuracy out of all the tested models, but has a much higher recall than the highest accuracy model, and that is reflected in having a higher f1 value as well."
   ]
  },
  {
   "cell_type": "markdown",
   "metadata": {
    "collapsed": false,
    "deletable": true,
    "editable": true
   },
   "source": [
    "#### Compare Algorithms (2pts)\n",
    "* Plot the Precision-Recall curves for the best model for each one of the above algorithms, Logistic Regression, Neural Nets, and SVM.\n",
    "    * Use the precision_recall_curve from scikit-learn\n",
    "* Explain your findings"
   ]
  },
  {
   "cell_type": "code",
   "execution_count": 43,
   "metadata": {
    "collapsed": false,
    "deletable": true,
    "editable": true
   },
   "outputs": [
    {
     "data": {
      "image/png": "[encoded data removed]",
      "text/plain": [
       "<matplotlib.figure.Figure at 0x7f33f0be6400>"
      ]
     },
     "metadata": {},
     "output_type": "display_data"
    },
    {
     "data": {
      "image/png": "[encoded data removed]",
      "text/plain": [
       "<matplotlib.figure.Figure at 0x7f33db382908>"
      ]
     },
     "metadata": {},
     "output_type": "display_data"
    },
    {
     "data": {
      "image/png": "[encoded data removed]",
      "text/plain": [
       "<matplotlib.figure.Figure at 0x7f33e7107ba8>"
      ]
     },
     "metadata": {},
     "output_type": "display_data"
    }
   ],
   "source": [
    "from sklearn.metrics import precision_recall_curve\n",
    "import matplotlib.pyplot as plt\n",
    "\n",
    "names = [\"logistic regression\", \"neural network\", \"SVM\"]\n",
    "\n",
    "o_logreg = LogisticRegression(C=10).fit(X_train_new, y_train_new)\n",
    "o_mlp = MLPClassifier(hidden_layer_sizes=[250, 250, 250, 250], max_iter=1000, random_state=0).fit(X_train_new, y_train_new)\n",
    "o_svm = SVC(kernel='sigmoid', C=1000, probability=True).fit(X_train_new, y_train_new)\n",
    "\n",
    "\n",
    "for i, model in enumerate([o_logreg, o_mlp, o_svm]):\n",
    "    precision, recall, thresholds = precision_recall_curve(y_test, model.predict_proba(X_test)[:,1])\n",
    "\n",
    "    close_zero = np.argmin(np.abs(thresholds))\n",
    "    plt.plot(precision[close_zero], recall[close_zero], 'o', markersize=10,\n",
    "             label=\"threshold zero\", fillstyle=\"none\", c='k', mew=2)\n",
    "    plt.plot(precision, recall, label=\"precision recall curve\")\n",
    "    plt.xlabel(\"precision\")\n",
    "    plt.ylabel(\"recall\")\n",
    "    plt.title(\"precision_recall_curve for the %s model (score: %f)\" % (names[i], model.score(X_test, y_test)));\n",
    "    plt.legend(loc=\"best\")\n",
    "    plt.show()\n",
    "\n",
    "# your code goes here"
   ]
  },
  {
   "cell_type": "markdown",
   "metadata": {
    "collapsed": true,
    "deletable": true,
    "editable": true
   },
   "source": [
    "For this case, the neural network has by far the highest score. However, the neural network implementation would be the least suitable for this case, since due to the high amount of features, the complexity of the network exceeds a point where accurate predictions can be made with the current training and test sets. The SVM implementation, while is has a much faster execution time, also has a acceptable score. However, through this assignment we've learned that the choosing a model is based on your own preference. "
   ]
  },
  {
   "cell_type": "code",
   "execution_count": null,
   "metadata": {
    "collapsed": true
   },
   "outputs": [],
   "source": []
  }
 ],
 "metadata": {
  "kernelspec": {
   "display_name": "Python 3",
   "language": "python",
   "name": "python3"
  },
  "language_info": {
   "codemirror_mode": {
    "name": "ipython",
    "version": 3
   },
   "file_extension": ".py",
   "mimetype": "text/x-python",
   "name": "python",
   "nbconvert_exporter": "python",
   "pygments_lexer": "ipython3",
   "version": "3.5.2+"
  }
 },
 "nbformat": 4,
 "nbformat_minor": 2
}
