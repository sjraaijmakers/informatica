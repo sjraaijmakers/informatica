{
 "cells": [
  {
   "cell_type": "code",
   "execution_count": 55,
   "metadata": {
    "collapsed": false
   },
   "outputs": [
    {
     "name": "stdout",
     "output_type": "stream",
     "text": [
      "{'C': {'tie': 's'}, 'B': {'tie': 'w'}, 'E': {'tie': 's'}, 'D': {'tie': 's'}, 'F': {'tie': 'F'}}\n",
      "['B']\n"
     ]
    }
   ],
   "source": [
    "import networkx as nx\n",
    "import matplotlib.pyplot as plt\n",
    "%matplotlib inline\n",
    "\n",
    "# E = {(1,2), (2,3), (2,4), (3,4), (3,5), (4,5), (5,6)}\n",
    "# E = {(1,2), (1, 4), (1, 6), (2, 3), (2, 4), (2, 5), (3, 4), (3, 5), (5, 6)}\n",
    "\n",
    "# print nx.adjacency_matrix(G).todense()\n",
    "\n",
    "A = nx.Graph()\n",
    "E = {(1,2), (1, 4), (1, 6), (2, 3), (2, 4), (2, 5), (3, 4), (3, 5), (5, 6)}\n",
    "A.add_edges_from(E)\n",
    "\n",
    "# print nx.betweenness_centrality(A)\n",
    "\n",
    "dict = {\n",
    "    'B': {'tie': 'w'},\n",
    "    'C': {'tie': 's'},\n",
    "    'D': {'tie': 's'},\n",
    "    'E': {'tie': 's'},\n",
    "    'F': {'tie': 'F'}}\n",
    "\n",
    "print dict\n",
    "\n",
    "print [k for k, v in dict.items() if v['tie']=='w']"
   ]
  },
  {
   "cell_type": "code",
   "execution_count": null,
   "metadata": {
    "collapsed": true
   },
   "outputs": [],
   "source": []
  }
 ],
 "metadata": {
  "kernelspec": {
   "display_name": "Python 2",
   "language": "python",
   "name": "python2"
  },
  "language_info": {
   "codemirror_mode": {
    "name": "ipython",
    "version": 2
   },
   "file_extension": ".py",
   "mimetype": "text/x-python",
   "name": "python",
   "nbconvert_exporter": "python",
   "pygments_lexer": "ipython2",
   "version": "2.7.12+"
  }
 },
 "nbformat": 4,
 "nbformat_minor": 1
}
