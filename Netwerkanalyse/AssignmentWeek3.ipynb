{
 "cells": [
  {
   "cell_type": "markdown",
   "metadata": {},
   "source": [
    "# Assignment week 3"
   ]
  },
  {
   "cell_type": "markdown",
   "metadata": {},
   "source": [
    "# Steven Raaijmakers (10804242) & Ajit Jena (5730066)"
   ]
  },
  {
   "cell_type": "markdown",
   "metadata": {},
   "source": [
    "## Exercises E&K Chap 5\n",
    "\n",
    "The exercises 1,2,3,4 from E&amp; K Chap 5 plus the extensions of these exercises given  in the lecture notes (see     <a href='../../LectureNotes/weekEandKch5.html#hw'>E&amp;K ch5</a>)"
   ]
  },
  {
   "cell_type": "markdown",
   "metadata": {},
   "source": [
    "### 1.  According to the definitions in this chapter, is this network on 90 people balanced? Give a brief explanation for your answer.\n",
    "\n",
    "The three groups of people each containing 30 people who are friends with each other can be seen as three seperate sets. Let's call them X,Y and Z. If there were two sets that each are friends with people in their own set and are enemies of everyone from another (single) set the network would be balanced. However we have three sets in this case. The network is not balanced. For a set to be balanced a so called triangle should contain one or three plusses. In this case there are three negative relations between the sets. Two of the three sets X, Y or Z will tend to 'befriend' each other to achieve a balance.\n",
    "The network is not balanced."
   ]
  },
  {
   "cell_type": "markdown",
   "metadata": {},
   "source": [
    "### 2. For each edge, how many of the triangles it participates in are balanced, and how many are unbalanced?\n",
    "\n",
    "#### A-B +\n",
    "ABC: Unbalanced <br/>\n",
    "ABD: Unbalanced <br/>\n",
    "ABE: Balanced <br/>\n",
    "\n",
    "2 unbalanced and 1 balanced triangles\n",
    "\n",
    "#### A-D -\n",
    "ABD: Unbalanced <br/>\n",
    "ACD: Balanced <br/>\n",
    "ADE: Balanced <br/>\n",
    "\n",
    "1 unbalanced and 2 balanced triangles\n",
    "\n",
    "Due to symmatry the answers above apply to all positive edges alike and negative edges alike.\n"
   ]
  },
  {
   "cell_type": "markdown",
   "metadata": {},
   "source": [
    "### 3. \n",
    "#### (a) Can node D do this in such a way that it doesn’t become involved in any unbalanced triangle?\n",
    "\n",
    "Yes node D can do that. There are 6 different ways it can do that. \n",
    "\n",
    "If node D connects to nodes A, B and C with edge D-A being an edge lying in between edges D-B and D-C there are two ways to label the edges to make it so D is not involved in any unbalanced traingle. <br/>\n",
    "D-C: - <br/>\n",
    "D-A: + <br/>\n",
    "D-B: - <br/>\n",
    "\n",
    "or\n",
    "\n",
    "D-C: + <br/>\n",
    "D-A: - <br/>\n",
    "D-B: + <br/>\n",
    "\n",
    "In both cases D has triangles containing only 1 +. There are two different possibilities. As long as the edge that lies in the middle has an opposite sign compared to the two outer edges. These two different possibilities also apply when D's middle edge is connected to B or C, so there are 3 * 2 = 6 different possibilities.\n",
    "\n",
    "#### (b) Can node D do this in such a way that it doesn’t become involved in any unbalanced triangle?\n",
    "\n",
    "There are 6 different possibilities. If D-A is the middle edge between D-B and D-C and all three edges have the same sign the triangles containing D will be balanced, that gives us two possibilities. \n",
    "\n",
    "If D is connected to C as the middle edge the following configurations would also make it so that D is not involved in unbalanced:\n",
    "\n",
    "D-B: + <br/>\n",
    "D-C: - <br/>\n",
    "D-A: - <br/>\n",
    "\n",
    "or\n",
    "\n",
    "D-B: - <br/>\n",
    "D-C: + <br/>\n",
    "D-A: + <br/>\n",
    "\n",
    "The above can be applied to D-B being the middle edge too, we just have to switch the values of edges D-B and D-C. Therefore there are 6 possibilities.\n",
    "\n",
    "\n",
    "\n"
   ]
  },
  {
   "cell_type": "markdown",
   "metadata": {},
   "source": [
    "## Programmeer opgaven\n",
    "\n",
    "### P1 breadth first search\n",
    "\n",
    "Maak een Python programma/functie dat als input een netwerk (in NetworkX formaat) en een knoop 'x' in dat netwerk neemt. Als output drukt het het volgende af:\n",
    "```\n",
    "                afstand knopen\n",
    "                0       ['x']\n",
    "                1       ['a','b',...]\n",
    "                2       ...\n",
    "                3       ...\n",
    "                ...\n",
    "```    \n",
    "Maak beide implementaties die hieronder beschreven staan en vergelijk de output."
   ]
  },
  {
   "cell_type": "markdown",
   "metadata": {},
   "source": [
    "1. Je kan dit makkelijk doen door een NetworkX functie te vinden die kortste paden berekend. "
   ]
  },
  {
   "cell_type": "code",
   "execution_count": 4,
   "metadata": {
    "collapsed": true
   },
   "outputs": [],
   "source": [
    "import networkx as nx\n",
    "import matplotlib.pyplot as plt\n",
    "%matplotlib inline\n",
    "\n",
    "G=nx.karate_club_graph()"
   ]
  },
  {
   "cell_type": "code",
   "execution_count": 5,
   "metadata": {
    "collapsed": false
   },
   "outputs": [
    {
     "name": "stdout",
     "output_type": "stream",
     "text": [
      "Afstand     Knopen\n",
      "0           [0]\n",
      "1           [1, 2, 3, 4, 5, 6, 7, 8, 10, 11, 12, 13, 17, 19, 21, 31]\n",
      "2           [9, 16, 24, 25, 27, 28, 30, 32, 33]\n",
      "3           [14, 15, 18, 20, 22, 23, 26, 29]\n"
     ]
    }
   ],
   "source": [
    "# p1\n",
    "def p1(G, Node):\n",
    "    tree = {}\n",
    "    # Check alle nodes in G\n",
    "    for i in G.nodes():\n",
    "        # Bereken afstand tussen node i en Node\n",
    "        distance = len(nx.shortest_path(G, Node, i)) - 1\n",
    "        # Voeg toe aan dictionary\n",
    "        if distance in tree:\n",
    "             tree[distance].append(i)\n",
    "        else:\n",
    "            tree[distance] = [i]\n",
    "    return tree\n",
    "        \n",
    "d = p1(G, 0)\n",
    "\n",
    "print \"Afstand     Knopen\"\n",
    "for key, value in d.items():\n",
    "    print str(key) + \"           \" + str(value)"
   ]
  },
  {
   "cell_type": "markdown",
   "metadata": {},
   "source": [
    "2. Maar je kunt natuurlijk ook Dijkstra's kortste pad algorithme zelf implementeren! Hier is een hint.\n",
    "```\n",
    "# Implement the breadth first algorithm from E& K section 2.3\n",
    "                # Pseudocode:\n",
    "                \n",
    "                # First define a function which produces the neighbours of x in G which are not already in the list (better set) Memory\n",
    "                def NextLevel(G,Node,Memory):\n",
    "                    # RETURN: list/set of nodes which are neighbours of Node but not in Memory\n",
    "                    \n",
    "                # Now we implement Dijkstra using recursion:\n",
    "                #\n",
    "                # Call with dijkstra(G,[x],[x],0) \n",
    "                \n",
    "                 def dijkstra(G,LevelSet,Memory,Distance):\n",
    "                        print Distance, LevelSet\n",
    "                #\n",
    "                # Next = Union van de uitkomsten van  NextLevel(G,Knoop,Memory) voor elke Knoop in LevelSet\n",
    "                # NewMemory = Memory union Next\n",
    "                #       if Next == []:\n",
    "                            then stop\n",
    "                            else dijkstra(G,Next,NewMemory,Distance+1)\n",
    "```\n",
    "            "
   ]
  },
  {
   "cell_type": "code",
   "execution_count": 6,
   "metadata": {
    "collapsed": false
   },
   "outputs": [
    {
     "name": "stdout",
     "output_type": "stream",
     "text": [
      "[0, 7, 13, 17, 19, 21, 30]\n"
     ]
    }
   ],
   "source": [
    "def NextLevel(G, Node, Memory):\n",
    "    neighbors = G.neighbors(Node)\n",
    "    tmp = []\n",
    "    for i in neighbors:\n",
    "        if i not in Memory:\n",
    "            tmp.append(i)\n",
    "    return tmp\n",
    "    \n",
    "\n",
    "print NextLevel(G, 1, [2, 3])"
   ]
  },
  {
   "cell_type": "markdown",
   "metadata": {},
   "source": [
    "## P2 Breadth first search again\n",
    "\n",
    "1. Herschrijf je breadth first functie van de vorige opgave zodat het niks meer uitprint maar een dict oplevert met afstanden als sleutels en de lijst met knopen op die afstand van de input-knoop als waarden. Zie het voorbeeld hieronder. \n",
    "\n",
    "2. Geef een mooie en duidelijek docstring aan je functie."
   ]
  },
  {
   "cell_type": "code",
   "execution_count": 7,
   "metadata": {
    "collapsed": false
   },
   "outputs": [
    {
     "name": "stdout",
     "output_type": "stream",
     "text": [
      "{0: [24], 1: [25, 27, 31], 2: [0, 2, 23, 28, 32, 33], 3: [1, 3, 4, 5, 6, 7, 8, 9, 10, 11, 12, 13, 14, 15, 17, 18, 19, 20, 21, 22, 26, 29, 30], 4: [16]}\n"
     ]
    }
   ],
   "source": [
    "# Wij hebben p1 al als dictionary geprogrammeerd, dus deze functie is nagenoeg hetzelfde (als p1())\n",
    "\n",
    "def dijkstra2(G, n):\n",
    "    \"functie returned dictionary met als key de afstand, en als value een lijst van knopen binnen die afstand\"\n",
    "    tree = {}\n",
    "    for i in G.nodes():\n",
    "        distance = len(nx.shortest_path(G, n, i)) - 1\n",
    "        if distance in tree:\n",
    "             tree[distance].append(i)\n",
    "        else:\n",
    "            tree[distance] = [i]\n",
    "    return tree\n",
    "        \n",
    "print dijkstra2(G, 24)"
   ]
  },
  {
   "cell_type": "markdown",
   "metadata": {},
   "source": [
    "## P3  \n",
    "Maak een python programma dat een netwerk als input neemt, en voor alle knopen\n",
    "                de clustering-coefficient (Section 3.1 E&amp;K) berekent en als volgt uitprint:\n",
    "                (orden de knopen op hun CC met de hoogste eerst). \n",
    "                <strong>Bereken dit zelf, gebruik geen NetwrokX functie die dit al doet. </strong>. Je mag natuurlijk wel NetworkX handigheidjes als <tt>G.neighbors(v)</tt> gebruiken."
   ]
  },
  {
   "cell_type": "code",
   "execution_count": 8,
   "metadata": {
    "collapsed": false
   },
   "outputs": [
    {
     "name": "stdout",
     "output_type": "stream",
     "text": [
      "Knoop     CC\n",
      "0         18/120\n",
      "1         12/36\n",
      "2         11/45\n",
      "3         10/15\n",
      "4         2/3\n",
      "5         3/6\n",
      "6         3/6\n",
      "7         6/6\n",
      "8         5/10\n",
      "9         0/1\n",
      "10         2/3\n",
      "11         0/0\n",
      "12         1/1\n",
      "13         6/10\n",
      "14         1/1\n",
      "15         1/1\n",
      "16         1/1\n",
      "17         1/1\n",
      "18         1/1\n",
      "19         1/3\n",
      "20         1/1\n",
      "21         1/1\n",
      "22         1/1\n",
      "23         4/10\n",
      "24         1/3\n",
      "25         1/3\n",
      "26         1/1\n",
      "27         1/6\n",
      "28         1/3\n",
      "29         4/6\n",
      "30         3/6\n",
      "31         3/15\n",
      "32         13/66\n",
      "33         15/136\n"
     ]
    }
   ],
   "source": [
    "import itertools\n",
    "from __future__ import division\n",
    "\n",
    "def p3(G):\n",
    "    tree = {}\n",
    "    # Check voor alle nodes in G\n",
    "    for node in G.nodes():\n",
    "        # Vraag van elke node zijn buren op\n",
    "        neighbors = G.neighbors(node)\n",
    "        \n",
    "        friend_c = 0   \n",
    "        \n",
    "        # Alle unieke combinaties van lengte 2 binnen de buren van huidige node       \n",
    "        combinations = list(itertools.combinations(neighbors, 2))\n",
    "        comb_c = len(combinations)\n",
    "        \n",
    "        # Check voor elke combinatie of ze direct verbonden zijn, zo ja; hoog friend_c op\n",
    "        for i, j in combinations:\n",
    "            if G.has_edge(i, j):\n",
    "                friend_c += 1\n",
    "        tree[node] = (comb_c, friend_c)\n",
    "    return tree\n",
    "        \n",
    "d = p3(G)\n",
    "\n",
    "print \"Knoop     CC\"\n",
    "for key, (combinations, friends) in d.items():\n",
    "    print str(key) + \"         \" + str(friends) + \"/\" + str(combinations)"
   ]
  },
  {
   "cell_type": "markdown",
   "metadata": {},
   "source": [
    "## P4       \n",
    "Vind een manier waarop je in NetworkX een netwerk met sterke en zwakke lijnen \n",
    " (als in Chapter 3 E&amp;K) kunt representeren.\n",
    "\n",
    "Representeer het netwerk van Figuur 3.5 op die manier. \n",
    "\n",
    "Print ook een plaatje, waarbij je de labels op de lijnen ook weergeeft."
   ]
  },
  {
   "cell_type": "code",
   "execution_count": 9,
   "metadata": {
    "collapsed": false
   },
   "outputs": [
    {
     "data": {
      "image/png": "[encoded data removed]",
      "text/plain": [
       "<matplotlib.figure.Figure at 0x7f5353f1f790>"
      ]
     },
     "metadata": {},
     "output_type": "display_data"
    }
   ],
   "source": [
    "# moet ik echt dat hele ding gaan overnemen???\n",
    "\n",
    "N = nx.Graph()\n",
    "\n",
    "N.add_nodes_from(['A', 'B', 'C', 'D', 'E', 'F', 'G', 'H', 'I', 'J', 'K', 'L', 'M'])\n",
    "\n",
    "\n",
    "N.add_edge('A', 'B', weight=0.4)\n",
    "N.add_edge('A', 'D', weight=0.6)\n",
    "N.add_edge('A', 'E', weight=0.6)\n",
    "N.add_edge('A', 'C', weight=0.6)\n",
    "N.add_edge('A', 'F', weight=0.4)\n",
    "\n",
    "N.add_edge('D', 'E', weight=0.4)\n",
    "N.add_edge('D', 'C', weight=0.6)\n",
    "\n",
    "N.add_edge('C', 'F', weight=0.4)\n",
    "N.add_edge('C', 'E', weight=0.6)\n",
    "\n",
    "N.add_edge('F', 'J', weight=0.6)\n",
    "N.add_edge('F', 'G', weight=0.6)\n",
    "\n",
    "N.add_edge('J', 'G', weight=0.6)\n",
    "\n",
    "N.add_edge('G', 'K', weight=0.4)\n",
    "N.add_edge('G', 'H', weight=0.4)\n",
    "\n",
    "N.add_edge('K', 'H', weight=0.6)\n",
    "\n",
    "N.add_edge('H', 'B', weight=0.4)\n",
    "N.add_edge('H', 'I', weight=0.4)\n",
    "\n",
    "N.add_edge('B', 'I', weight=0.6)\n",
    "N.add_edge('B', 'M', weight=0.6)\n",
    "N.add_edge('B', 'L', weight=0.6)\n",
    "\n",
    "N.add_edge('I', 'L', weight=0.6)\n",
    "N.add_edge('I', 'M', weight=0.6)\n",
    "\n",
    "N.add_edge('L', 'M', weight=0.4)\n",
    "\n",
    "strong = [(u,v) for (u,v,d) in N.edges(data=True) if d['weight'] >0.5]\n",
    "weak = [(u,v) for (u,v,d) in N.edges(data=True) if d['weight'] <= 0.5]\n",
    "\n",
    "NP = nx.spring_layout(N)\n",
    "\n",
    "nx.draw_networkx_nodes(N, pos=NP)\n",
    "\n",
    "nx.draw_networkx_edges(N ,pos=NP, edgelist=strong, width=2)\n",
    "nx.draw_networkx_edges(N ,pos=NP, edgelist=weak,\n",
    "                    width=1,alpha=0.5,edge_color='b',style='dashed')\n",
    "\n",
    "plt.axis('off')\n",
    "plt.show() "
   ]
  },
  {
   "cell_type": "markdown",
   "metadata": {},
   "source": [
    "## P5\n",
    "Schrijf de Python functies STC(G) voor G een Networkx ongericht netwerk met \n",
    "                sterke en zwakke relaties\n",
    "                en STC(G,x) for x een knoop met de volgende output:\n",
    "<ul>\n",
    "    <li>Als G (of x) voldoet aan de Strong Triadic Closure eigenschap dan true().</li>\n",
    "    <li>Zoniet, dan is de output een tegenvoorbeeld. Bij een G als input is dat dus een niet voltooide driehoek. \n",
    "        Bij een knoop x als input, zijn dat de twee sterke lijnen en eindknopen waartussen geen lijn (zelfs niet zwak) zit.</li>\n",
    "</ul>\n",
    "            Check dat Figuur 3.5 inderdaad voldoet aan de STC. \n",
    "            Verander wat in Fig 3.5 zodat STC niet meer opgaat en draai je programma opnieuw. "
   ]
  },
  {
   "cell_type": "code",
   "execution_count": 10,
   "metadata": {
    "collapsed": false
   },
   "outputs": [
    {
     "name": "stdout",
     "output_type": "stream",
     "text": [
      "True\n",
      "('E', 'D')\n"
     ]
    }
   ],
   "source": [
    "# Definitie van \"Sterke link\"\n",
    "def is_strong(weight):\n",
    "    if weight > 0.5:\n",
    "        return True\n",
    "    return False\n",
    "\n",
    "# STC Checking\n",
    "def STC_h(G, x):\n",
    "    # Vraag naar alle neighbors van X\n",
    "    neighbors = G.neighbors(x)\n",
    "    strongs = []\n",
    "    for n in neighbors:\n",
    "        weight = G.get_edge_data(x, n)[\"weight\"]\n",
    "        if is_strong(weight):\n",
    "            # Voeg neighbor toe aan strong list\n",
    "            strongs.append(n)\n",
    "\n",
    "    # Alle unieke combinaties van de elementen in \"strong\" met een lengte van 2\n",
    "    combinations = list(itertools.combinations(strongs, 2))\n",
    "\n",
    "    for i, j in combinations:\n",
    "        # Check of unieke combinatie uberhaupt een linnk heeft\n",
    "        if not G.has_edge(i, j):\n",
    "            # Zo niet; return dan dit paar (als tegenvoorbeeld)\n",
    "            return (i, j)\n",
    "    # Als alle combinaties dus wel een edge hebben geld de STC:\n",
    "    return True\n",
    "\n",
    "# User functie:\n",
    "def STC(*arg):\n",
    "    G = arg[0]\n",
    "    \n",
    "    # Check of user een Node heeft meegegeven:    \n",
    "    x = 0    \n",
    "    if len(arg) > 1:\n",
    "        x = arg[1]\n",
    "    \n",
    "    # Als user een Node heeft meegegeven\n",
    "    if(x):\n",
    "        return STC_h(G, x)\n",
    "    # Als user geen node heeft meegegeven: check voor alle nodes in G\n",
    "    else:\n",
    "        for node in G.nodes():\n",
    "            k = STC_h(G, node)\n",
    "            # Zodra k een waarde anders dan True krijgt, is de STC verbroken\n",
    "            if k != True:\n",
    "                return k\n",
    "        return True\n",
    "        \n",
    "        \n",
    "print STC(N)\n",
    "\n",
    "N2 = N.copy()\n",
    "N2.remove_edge('D', 'E')\n",
    "\n",
    "print STC(N2)"
   ]
  },
  {
   "cell_type": "code",
   "execution_count": 1,
   "metadata": {
    "collapsed": false
   },
   "outputs": [
    {
     "name": "stdout",
     "output_type": "stream",
     "text": [
      "2\n"
     ]
    }
   ],
   "source": [
    "import networkx as nx\n",
    "\n",
    "E = {(1,2), (2,3), (2,4), (3,4), (3,5), (4,5), (5,6)}\n",
    "\n",
    "G = nx.Graph()\n",
    "G.add_edges_from(E)\n",
    "\n",
    "gatekeepers = 0\n",
    "\n",
    "for n in G.nodes():\n",
    "    neighbors = G.neighbors(n)\n",
    "    combinations = list(itertools.combinations(neighbors, 2))\n",
    "    for i, j in combinations:\n",
    "        if not G.has_edge(i, j):\n",
    "            print n, (i, j?)\n",
    "\n",
    "nx.draw(G)\n",
    "print nx.diameter(G)\n",
    "\n",
    "print nx.eccentricity(G, v=2)\n"
   ]
  },
  {
   "cell_type": "code",
   "execution_count": null,
   "metadata": {
    "collapsed": true
   },
   "outputs": [],
   "source": []
  },
  {
   "cell_type": "code",
   "execution_count": null,
   "metadata": {
    "collapsed": true
   },
   "outputs": [],
   "source": []
  }
 ],
 "metadata": {
  "anaconda-cloud": {},
  "kernelspec": {
   "display_name": "Python 2",
   "language": "python",
   "name": "python2"
  },
  "language_info": {
   "codemirror_mode": {
    "name": "ipython",
    "version": 2
   },
   "file_extension": ".py",
   "mimetype": "text/x-python",
   "name": "python",
   "nbconvert_exporter": "python",
   "pygments_lexer": "ipython2",
   "version": "2.7.12+"
  }
 },
 "nbformat": 4,
 "nbformat_minor": 0
}
